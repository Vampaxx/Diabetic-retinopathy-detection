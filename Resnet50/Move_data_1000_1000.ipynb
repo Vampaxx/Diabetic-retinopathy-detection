{
 "cells": [
  {
   "cell_type": "code",
   "execution_count": 1,
   "id": "6b15c3a4",
   "metadata": {},
   "outputs": [],
   "source": [
    "import io\n",
    "import os\n",
    "import cv2\n",
    "import random\n",
    "import pandas as pd\n",
    "import numpy as np\n",
    "import matplotlib.pyplot as plt\n",
    "from PIL import Image\n",
    "from glob import glob\n",
    "import tensorflow as tf\n",
    "from keras.utils import normalize, to_categorical\n",
    "import shutil\n",
    "\n",
    "plt.style.use(\"ggplot\")\n",
    "%matplotlib inline"
   ]
  },
  {
   "cell_type": "code",
   "execution_count": null,
   "id": "bc75fef7",
   "metadata": {},
   "outputs": [],
   "source": [
    "df = pd.read_csv('trainLabels.csv')"
   ]
  },
  {
   "cell_type": "code",
   "execution_count": 3,
   "id": "6d8deed4",
   "metadata": {},
   "outputs": [],
   "source": [
    "def data_and_concat(data):\n",
    "    value_list = data['level'].value_counts().nlargest(3).index.tolist()\n",
    "    index_value = []\n",
    "    \n",
    "    for value in value_list:\n",
    "        data_value = data[data['level'] == value].index\n",
    "        index_value.append(data_value)\n",
    "    \n",
    "    full_index = []\n",
    "    \n",
    "    for indices in index_value:\n",
    "        data_list = random.sample(indices.tolist(), 900)\n",
    "        full_index.extend(data_list)\n",
    "    \n",
    "    return data.loc[full_index]"
   ]
  },
  {
   "cell_type": "code",
   "execution_count": null,
   "id": "ad8fc0bf",
   "metadata": {},
   "outputs": [],
   "source": [
    "df1 = data_and_concat(df)\n",
    "df2 = df[(df['level'] == 3) | (df['level'] == 4)] \n",
    "df3 = pd.concat([df1,df2])\n",
    "#df3.to_csv('data.csv', index=False)"
   ]
  }
 ],
 "metadata": {
  "kernelspec": {
   "display_name": "Python 3 (ipykernel)",
   "language": "python",
   "name": "python3"
  },
  "language_info": {
   "codemirror_mode": {
    "name": "ipython",
    "version": 3
   },
   "file_extension": ".py",
   "mimetype": "text/x-python",
   "name": "python",
   "nbconvert_exporter": "python",
   "pygments_lexer": "ipython3",
   "version": "3.9.13"
  }
 },
 "nbformat": 4,
 "nbformat_minor": 5
}
